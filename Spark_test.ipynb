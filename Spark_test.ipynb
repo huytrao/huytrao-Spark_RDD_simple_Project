{
 "cells": [
  {
   "cell_type": "code",
   "execution_count": 1,
   "metadata": {},
   "outputs": [
    {
     "name": "stderr",
     "output_type": "stream",
     "text": [
      "24/08/08 20:17:21 WARN Utils: Your hostname, huytrao-VirtualBox resolves to a loopback address: 127.0.1.1; using 10.0.2.15 instead (on interface enp0s3)\n",
      "24/08/08 20:17:21 WARN Utils: Set SPARK_LOCAL_IP if you need to bind to another address\n",
      "Setting default log level to \"WARN\".\n",
      "To adjust logging level use sc.setLogLevel(newLevel). For SparkR, use setLogLevel(newLevel).\n",
      "24/08/08 20:17:26 WARN NativeCodeLoader: Unable to load native-hadoop library for your platform... using builtin-java classes where applicable\n"
     ]
    }
   ],
   "source": [
    "from pyspark.sql import SparkSession\n",
    "\n",
    "spark = SparkSession.builder \\\n",
    "    .appName(\"MySparkApp\") \\\n",
    "    .master(\"local[*]\") \\\n",
    "    .getOrCreate()"
   ]
  },
  {
   "cell_type": "code",
   "execution_count": 19,
   "metadata": {},
   "outputs": [],
   "source": [
    "# Đọc tệp CSV\n",
    "orders_rdd = spark.sparkContext.textFile(\"Orders.csv\")\n",
    "\n",
    "\n"
   ]
  },
  {
   "cell_type": "code",
   "execution_count": 3,
   "metadata": {},
   "outputs": [
    {
     "name": "stderr",
     "output_type": "stream",
     "text": [
      "                                                                                \r"
     ]
    }
   ],
   "source": [
    "# Lấy dòng header\n",
    "header = orders_rdd.first()\n",
    "\n",
    "# Loại bỏ dòng header khỏi RDD\n",
    "orders_rdd_no_header = orders_rdd.filter(lambda line: line != header)"
   ]
  },
  {
   "cell_type": "code",
   "execution_count": 4,
   "metadata": {},
   "outputs": [
    {
     "name": "stderr",
     "output_type": "stream",
     "text": [
      "                                                                                \r"
     ]
    },
    {
     "data": {
      "text/plain": [
       "9426"
      ]
     },
     "execution_count": 4,
     "metadata": {},
     "output_type": "execute_result"
    }
   ],
   "source": [
    "orders_rdd_no_header.count()"
   ]
  },
  {
   "cell_type": "code",
   "execution_count": 5,
   "metadata": {},
   "outputs": [
    {
     "data": {
      "text/plain": [
       "['18606,Not Specified,0.01,2.88,0.5,2,Janice Fletcher,Regular Air,Corporate,Office Supplies,Small Box,0.36,Central,Illinois,Addison,60101,5/28/2012,5/30/2012,1.32,2,5.9,88525',\n",
       " '20847,High,0.01,2.84,0.93,3,Bonnie Potter,Express Air,Corporate,Office Supplies,Wrap Bag,0.54,West,Washington,Anacortes,98221,7/7/2010,7/8/2010,4.56,4,13.01,88522',\n",
       " '23086,Not Specified,0.03,6.68,6.15,3,Bonnie Potter,Express Air,Corporate,Office Supplies,Small Box,0.37,West,Washington,Anacortes,98221,7/27/2011,7/28/2011,-47.64,7,49.92,88523',\n",
       " '23087,Not Specified,0.01,5.68,3.6,3,Bonnie Potter,Regular Air,Corporate,Office Supplies,Small Pack,0.56,West,Washington,Anacortes,98221,7/27/2011,7/28/2011,-30.51,7,41.64,88523',\n",
       " '23088,Not Specified,0,205.99,2.5,3,Bonnie Potter,Express Air,Corporate,Technology,Small Box,0.59,West,Washington,Anacortes,98221,7/27/2011,7/27/2011,998.2023,8,1446.67,88523',\n",
       " '23597,Medium,0.09,55.48,14.3,3,Bonnie Potter,Express Air,Corporate,Office Supplies,Small Box,0.37,West,Washington,Anacortes,98221,11/9/2011,11/11/2011,1388.0523,37,2011.67,88524',\n",
       " '25549,Low,0.08,120.97,26.3,3,Bonnie Potter,Delivery Truck,Corporate,Technology,Jumbo Drum,0.38,West,Washington,Anacortes,98221,7/1/2013,7/8/2013,1001.4453,12,1451.37,88526',\n",
       " '20228,Not Specified,0.02,500.98,26,5,Ronnie Proctor,Delivery Truck,Home Office,Furniture,Jumbo Drum,0.6,West,California,San Gabriel,91776,12/13/2010,12/15/2010,4390.3665,12,6362.85,90193',\n",
       " '19483,Low,0.08,6.48,6.81,5,Ronnie Proctor,Regular Air,Home Office,Office Supplies,Small Box,0.36,West,California,San Gabriel,91776,5/12/2012,5/21/2012,-141.26,18,113.25,90197',\n",
       " '24782,High,0.01,90.24,0.99,6,Dwight Hwang,Regular Air,Home Office,Office Supplies,Small Box,0.56,West,California,San Jose,95123,5/26/2011,5/26/2011,1045.4673,16,1515.17,90194']"
      ]
     },
     "execution_count": 5,
     "metadata": {},
     "output_type": "execute_result"
    }
   ],
   "source": [
    "orders_rdd_no_header.take(10)"
   ]
  },
  {
   "cell_type": "markdown",
   "metadata": {},
   "source": [
    "# count Orders by Region."
   ]
  },
  {
   "cell_type": "markdown",
   "metadata": {},
   "source": [
    "Using mapmethod ->  (Central,1)\n",
    "(East,1)\n",
    "(South,1)\n",
    "(West,1)"
   ]
  },
  {
   "cell_type": "code",
   "execution_count": 6,
   "metadata": {},
   "outputs": [],
   "source": [
    "map_Region = orders_rdd_no_header.map(lambda x: (x.split(\",\")[12],1))"
   ]
  },
  {
   "cell_type": "code",
   "execution_count": 7,
   "metadata": {},
   "outputs": [
    {
     "data": {
      "text/plain": [
       "[('Central', 1),\n",
       " ('West', 1),\n",
       " ('West', 1),\n",
       " ('West', 1),\n",
       " ('West', 1),\n",
       " ('West', 1),\n",
       " ('West', 1),\n",
       " ('West', 1),\n",
       " ('West', 1),\n",
       " ('West', 1)]"
      ]
     },
     "execution_count": 7,
     "metadata": {},
     "output_type": "execute_result"
    }
   ],
   "source": [
    "map_Region.take(10)"
   ]
  },
  {
   "cell_type": "code",
   "execution_count": 8,
   "metadata": {},
   "outputs": [],
   "source": [
    "reduced_Region = map_Region.reduceByKey(lambda x,y : x+y )"
   ]
  },
  {
   "cell_type": "code",
   "execution_count": 9,
   "metadata": {},
   "outputs": [
    {
     "name": "stderr",
     "output_type": "stream",
     "text": [
      "                                                                                \r"
     ]
    },
    {
     "data": {
      "text/plain": [
       "[('Central', 2899), ('West', 2284), ('East', 2289), ('South', 1954)]"
      ]
     },
     "execution_count": 9,
     "metadata": {},
     "output_type": "execute_result"
    }
   ],
   "source": [
    "reduced_Region.collect()"
   ]
  },
  {
   "cell_type": "code",
   "execution_count": 12,
   "metadata": {},
   "outputs": [],
   "source": [
    "sort_reduce_Region = reduced_Region.sortBy(lambda x : x[1],False)"
   ]
  },
  {
   "cell_type": "code",
   "execution_count": 13,
   "metadata": {},
   "outputs": [
    {
     "data": {
      "text/plain": [
       "[('Central', 2899), ('East', 2289), ('West', 2284), ('South', 1954)]"
      ]
     },
     "execution_count": 13,
     "metadata": {},
     "output_type": "execute_result"
    }
   ],
   "source": [
    "sort_reduce_Region.collect()"
   ]
  },
  {
   "cell_type": "markdown",
   "metadata": {},
   "source": [
    "# Top 10 Customers with the Highest Order Volume"
   ]
  },
  {
   "cell_type": "code",
   "execution_count": 14,
   "metadata": {},
   "outputs": [],
   "source": [
    "map_customer_rdd = orders_rdd_no_header.map(lambda x : (x.split(\",\")[6],1))"
   ]
  },
  {
   "cell_type": "code",
   "execution_count": 15,
   "metadata": {},
   "outputs": [
    {
     "data": {
      "text/plain": [
       "[('Janice Fletcher', 1),\n",
       " ('Bonnie Potter', 1),\n",
       " ('Bonnie Potter', 1),\n",
       " ('Bonnie Potter', 1),\n",
       " ('Bonnie Potter', 1),\n",
       " ('Bonnie Potter', 1),\n",
       " ('Bonnie Potter', 1),\n",
       " ('Ronnie Proctor', 1),\n",
       " ('Ronnie Proctor', 1),\n",
       " ('Dwight Hwang', 1)]"
      ]
     },
     "execution_count": 15,
     "metadata": {},
     "output_type": "execute_result"
    }
   ],
   "source": [
    "map_customer_rdd.take(10)"
   ]
  },
  {
   "cell_type": "code",
   "execution_count": 16,
   "metadata": {},
   "outputs": [],
   "source": [
    "reduced_customer_rdd = map_customer_rdd.reduceByKey(lambda x,y : x + y)"
   ]
  },
  {
   "cell_type": "code",
   "execution_count": 18,
   "metadata": {},
   "outputs": [
    {
     "data": {
      "text/plain": [
       "[('Louis Parrish', 27),\n",
       " ('Jenny Gold', 26),\n",
       " ('Sean N Boyer', 22),\n",
       " ('Leigh Burnette Hurley', 22),\n",
       " ('Andrew Gonzalez', 21)]"
      ]
     },
     "execution_count": 18,
     "metadata": {},
     "output_type": "execute_result"
    }
   ],
   "source": [
    "result = reduced_customer_rdd.sortBy(lambda x : x[1],False)\n",
    "result.take(5)"
   ]
  }
 ],
 "metadata": {
  "kernelspec": {
   "display_name": "Python 3",
   "language": "python",
   "name": "python3"
  },
  "language_info": {
   "codemirror_mode": {
    "name": "ipython",
    "version": 3
   },
   "file_extension": ".py",
   "mimetype": "text/x-python",
   "name": "python",
   "nbconvert_exporter": "python",
   "pygments_lexer": "ipython3",
   "version": "3.10.12"
  }
 },
 "nbformat": 4,
 "nbformat_minor": 2
}
